{
 "cells": [
  {
   "cell_type": "code",
   "execution_count": 7,
   "id": "8a42ba42-4869-4b8e-8963-f34a2a4bed1c",
   "metadata": {},
   "outputs": [],
   "source": [
    "import cv2\n",
    "import numpy as np\n",
    "import matplotlib.pyplot as plt\n",
    "from collections import defaultdict\n",
    "from scipy.signal import fftconvolve\n",
    "from scipy.fftpack import next_fast_len"
   ]
  },
  {
   "cell_type": "markdown",
   "id": "f0f518fc-6c99-43c5-a101-3c3cc52d6c4d",
   "metadata": {},
   "source": [
    "##\n",
    "## Dynamic Time-Evolving Template Matching (DTTM) and Farneback Optical Flow\n",
    "graphcut output -> mask or segmented foreground of first frame -> dttm input\n",
    "\n",
    "dttm output -> localized ROI (after object movement) -> optical flow input (for mask refinement) \n",
    "\n",
    "do looping inside of dttm; for now, test localization first, mask refinement later"
   ]
  },
  {
   "cell_type": "code",
   "execution_count": 35,
   "id": "903922e9-2ce6-46a5-bbc5-b5ce138c7e92",
   "metadata": {},
   "outputs": [],
   "source": [
    "template_bank = defaultdict(list)"
   ]
  },
  {
   "cell_type": "code",
   "execution_count": 39,
   "id": "6d30e420-f32e-477b-809a-43a949d5f617",
   "metadata": {},
   "outputs": [],
   "source": [
    "def update_template_bank(image, mask, object_id, max_templates=5):\n",
    "    \"\"\"\n",
    "    Crop the patch from the bounding rect of mask, mask out background pixels,\n",
    "    and store the masked foreground patch in the template bank.\n",
    "    \"\"\"\n",
    "    x, y, w, h = cv2.boundingRect(mask)\n",
    "\n",
    "    # Crop image patch and convert to grayscale if needed\n",
    "    patch = image[y:y+h, x:x+w]\n",
    "    if len(patch.shape) == 3 and patch.shape[2] == 3:\n",
    "        patch = cv2.cvtColor(patch, cv2.COLOR_BGR2GRAY)\n",
    "\n",
    "    # Crop corresponding mask region and convert to binary mask (uint8)\n",
    "    mask_patch = mask[y:y+h, x:x+w]\n",
    "    if len(mask_patch.shape) == 3 and mask_patch.shape[2] == 3:\n",
    "        mask_patch = cv2.cvtColor(mask_patch, cv2.COLOR_BGR2GRAY)\n",
    "    _, mask_bin = cv2.threshold(mask_patch, 127, 255, cv2.THRESH_BINARY)\n",
    "    mask_bin = mask_bin.astype(np.uint8)  # Just to be sure\n",
    "\n",
    "    # Confirm sizes match\n",
    "    assert patch.shape == mask_bin.shape, f\"patch shape {patch.shape} vs mask shape {mask_bin.shape}\"\n",
    "\n",
    "    # Apply mask: keep foreground pixels only\n",
    "    foreground = cv2.bitwise_and(patch, patch, mask=mask_bin)\n",
    "\n",
    "    template_bank[object_id].append(foreground)\n",
    "\n",
    "    if len(template_bank[object_id]) > max_templates:\n",
    "        template_bank[object_id].pop(0)  # Remove oldest template\n",
    "\n",
    "\n",
    "def match_and_localize(image, object_id, prev_bbox=None, search_margin=50):\n",
    "    \"\"\"\n",
    "    Use OpenCV's matchTemplate for efficient template matching.\n",
    "    Limits search area to a region around the previous bounding box.\n",
    "    \"\"\"\n",
    "    print(\"[match_and_localize] Running template matching...\")\n",
    "    gray = cv2.cvtColor(image, cv2.COLOR_BGR2GRAY)\n",
    "    h_img, w_img = gray.shape\n",
    "    best_score = -1\n",
    "    best_location = None\n",
    "    best_template_size = None\n",
    "\n",
    "    for idx, template in enumerate(template_bank[object_id]):\n",
    "        th, tw = template.shape\n",
    "\n",
    "        if prev_bbox:\n",
    "            px, py, pw, ph = prev_bbox\n",
    "            sx = max(0, px - search_margin)\n",
    "            sy = max(0, py - search_margin)\n",
    "            ex = min(w_img - tw, px + pw + search_margin)\n",
    "            ey = min(h_img - th, py + ph + search_margin)\n",
    "        else:\n",
    "            sx, sy, ex, ey = 0, 0, w_img - tw, h_img - th\n",
    "\n",
    "        search_region = gray[sy:ey, sx:ex]\n",
    "\n",
    "        if search_region.shape[0] < th or search_region.shape[1] < tw:\n",
    "            print(f\"[match_and_localize] Skipping: search region too small for template {idx}.\")\n",
    "            continue\n",
    "\n",
    "        result = cv2.matchTemplate(search_region, template, cv2.TM_CCOEFF_NORMED)\n",
    "        _, max_val, _, max_loc = cv2.minMaxLoc(result)\n",
    "\n",
    "        if max_val > best_score:\n",
    "            best_score = max_val\n",
    "            best_location = (sx + max_loc[0], sy + max_loc[1])\n",
    "            best_template_size = (tw, th)\n",
    "\n",
    "    if best_location is None:\n",
    "        print(\"[match_and_localize] ❌ No good match found.\")\n",
    "        return None, best_score\n",
    "\n",
    "    x, y = best_location\n",
    "    w, h = best_template_size\n",
    "    print(f\"[match_and_localize] ✅ Match found: NCC={best_score:.3f} at ({x},{y})\")\n",
    "    return (x, y, w, h), best_score\n",
    "\n",
    "def process_frame(frame, object_id=1, prev_bbox=None, init=False, template_threshold=0.7):\n",
    "    \"\"\"\n",
    "    Track object via template matching.\n",
    "    Optionally update the template bank based on appearance change.\n",
    "    \"\"\"\n",
    "    print(\"[process_frame] Processing frame...\")\n",
    "    if init:\n",
    "        t = template_bank[object_id][0]\n",
    "        print(\"[process_frame] Initialization frame — no matching.\")\n",
    "        return cv2.rectangle(frame.copy(), (0, 0), (t.shape[1], t.shape[0]), (255, 0, 0), 2), (0, 0, t.shape[1], t.shape[0])\n",
    "\n",
    "    match_bbox, score = match_and_localize(frame, object_id, prev_bbox)\n",
    "\n",
    "    if match_bbox is None:\n",
    "        print(\"[process_frame] Match failed, using previous bbox.\")\n",
    "        return frame, prev_bbox\n",
    "\n",
    "    x, y, w, h = match_bbox\n",
    "\n",
    "    if score < template_threshold:\n",
    "        print(f\"[process_frame] 🔁 Appearance changed (score={score:.3f}). Updating template.\")\n",
    "        mask_region = np.ones((h, w), dtype=np.uint8) * 255\n",
    "        update_template_bank(frame, mask_region, object_id)\n",
    "    else:\n",
    "        print(f\"[process_frame] ✅ Appearance consistent (score={score:.3f}). No update.\")\n",
    "\n",
    "    vis = frame.copy()\n",
    "    cv2.rectangle(vis, (x, y), (x + w, y + h), (0, 255, 0), 2)\n",
    "    return vis, (x, y, w, h)\n",
    "\n",
    "def dynamic_template_matching(init_mask, video, output, first_frame, object_id=1):\n",
    "    \"\"\"\n",
    "    Main tracking loop using dynamic template matching.\n",
    "    \"\"\"\n",
    "    print(\"[dynamic_template_matching] Starting video tracking...\")\n",
    "    frame_idx = 0\n",
    "    prev_bbox = None\n",
    "\n",
    "    while video.isOpened():\n",
    "        ret, frame = video.read()\n",
    "        if not ret:\n",
    "            print(\"[dynamic_template_matching] End of video stream.\")\n",
    "            break\n",
    "\n",
    "        if frame_idx == 0:\n",
    "            print(\"[dynamic_template_matching] Initializing template from frame 0...\")\n",
    "            init_mask = init_mask.astype(np.uint8)\n",
    "            if init_mask.ndim == 3:\n",
    "                init_mask = cv2.cvtColor(init_mask, cv2.COLOR_BGR2GRAY)\n",
    "            x, y, w, h = cv2.boundingRect(init_mask)\n",
    "            # Crop frame and mask region\n",
    "            frame_patch = frame[y:y+h, x:x+w]\n",
    "            mask_patch = init_mask[y:y+h, x:x+w]\n",
    "\n",
    "            update_template_bank(frame, init_mask, object_id)\n",
    "            vis, prev_bbox = process_frame(frame, object_id=object_id, init=True)\n",
    "        else:\n",
    "            vis, prev_bbox = process_frame(frame, object_id=object_id, prev_bbox=prev_bbox)\n",
    "\n",
    "        output.write(vis)\n",
    "        cv2.imshow(\"Tracking\", vis)\n",
    "        if cv2.waitKey(1) & 0xFF == ord('q'):\n",
    "            print(\"[dynamic_template_matching] Tracking interrupted by user.\")\n",
    "            break\n",
    "\n",
    "        frame_idx += 1\n",
    "\n",
    "    print(\"[dynamic_template_matching] Releasing video resources.\")\n",
    "    video.release()\n",
    "    output.release()\n"
   ]
  },
  {
   "cell_type": "code",
   "execution_count": 40,
   "id": "5be56abf-3a23-46d6-8e1b-875df1b629ad",
   "metadata": {},
   "outputs": [
    {
     "name": "stdout",
     "output_type": "stream",
     "text": [
      "[dynamic_template_matching] Starting video tracking...\n",
      "[dynamic_template_matching] Initializing template from frame 0...\n"
     ]
    },
    {
     "ename": "AssertionError",
     "evalue": "patch shape (923, 973) vs mask shape (923, 979)",
     "output_type": "error",
     "traceback": [
      "\u001b[1;31m---------------------------------------------------------------------------\u001b[0m",
      "\u001b[1;31mAssertionError\u001b[0m                            Traceback (most recent call last)",
      "Cell \u001b[1;32mIn[40], line 39\u001b[0m\n\u001b[0;32m     36\u001b[0m out \u001b[38;5;241m=\u001b[39m cv2\u001b[38;5;241m.\u001b[39mVideoWriter(output_path, fourcc, fps, (frame_w, frame_h))\n\u001b[0;32m     38\u001b[0m \u001b[38;5;66;03m# Pass the first_frame explicitly here:\u001b[39;00m\n\u001b[1;32m---> 39\u001b[0m \u001b[43mdynamic_template_matching\u001b[49m\u001b[43m(\u001b[49m\u001b[43minit_mask\u001b[49m\u001b[43m,\u001b[49m\u001b[43m \u001b[49m\u001b[43mcap\u001b[49m\u001b[43m,\u001b[49m\u001b[43m \u001b[49m\u001b[43mout\u001b[49m\u001b[43m,\u001b[49m\u001b[43m \u001b[49m\u001b[43mfirst_frame\u001b[49m\u001b[43m,\u001b[49m\u001b[43m \u001b[49m\u001b[43mobject_id\u001b[49m\u001b[38;5;241;43m=\u001b[39;49m\u001b[43mobject_id\u001b[49m\u001b[43m)\u001b[49m\n\u001b[0;32m     41\u001b[0m \u001b[38;5;28mprint\u001b[39m(\u001b[38;5;124m\"\u001b[39m\u001b[38;5;124m✅ Tracking complete. Output saved to:\u001b[39m\u001b[38;5;124m\"\u001b[39m, output_path)\n\u001b[0;32m     42\u001b[0m cv2\u001b[38;5;241m.\u001b[39mdestroyAllWindows()\n",
      "Cell \u001b[1;32mIn[39], line 133\u001b[0m, in \u001b[0;36mdynamic_template_matching\u001b[1;34m(init_mask, video, output, first_frame, object_id)\u001b[0m\n\u001b[0;32m    130\u001b[0m     frame_patch \u001b[38;5;241m=\u001b[39m frame[y:y\u001b[38;5;241m+\u001b[39mh, x:x\u001b[38;5;241m+\u001b[39mw]\n\u001b[0;32m    131\u001b[0m     mask_patch \u001b[38;5;241m=\u001b[39m init_mask[y:y\u001b[38;5;241m+\u001b[39mh, x:x\u001b[38;5;241m+\u001b[39mw]\n\u001b[1;32m--> 133\u001b[0m     \u001b[43mupdate_template_bank\u001b[49m\u001b[43m(\u001b[49m\u001b[43mframe\u001b[49m\u001b[43m,\u001b[49m\u001b[43m \u001b[49m\u001b[43minit_mask\u001b[49m\u001b[43m,\u001b[49m\u001b[43m \u001b[49m\u001b[43mobject_id\u001b[49m\u001b[43m)\u001b[49m\n\u001b[0;32m    134\u001b[0m     vis, prev_bbox \u001b[38;5;241m=\u001b[39m process_frame(frame, object_id\u001b[38;5;241m=\u001b[39mobject_id, init\u001b[38;5;241m=\u001b[39m\u001b[38;5;28;01mTrue\u001b[39;00m)\n\u001b[0;32m    135\u001b[0m \u001b[38;5;28;01melse\u001b[39;00m:\n",
      "Cell \u001b[1;32mIn[39], line 21\u001b[0m, in \u001b[0;36mupdate_template_bank\u001b[1;34m(image, mask, object_id, max_templates)\u001b[0m\n\u001b[0;32m     18\u001b[0m mask_bin \u001b[38;5;241m=\u001b[39m mask_bin\u001b[38;5;241m.\u001b[39mastype(np\u001b[38;5;241m.\u001b[39muint8)  \u001b[38;5;66;03m# Just to be sure\u001b[39;00m\n\u001b[0;32m     20\u001b[0m \u001b[38;5;66;03m# Confirm sizes match\u001b[39;00m\n\u001b[1;32m---> 21\u001b[0m \u001b[38;5;28;01massert\u001b[39;00m patch\u001b[38;5;241m.\u001b[39mshape \u001b[38;5;241m==\u001b[39m mask_bin\u001b[38;5;241m.\u001b[39mshape, \u001b[38;5;124mf\u001b[39m\u001b[38;5;124m\"\u001b[39m\u001b[38;5;124mpatch shape \u001b[39m\u001b[38;5;132;01m{\u001b[39;00mpatch\u001b[38;5;241m.\u001b[39mshape\u001b[38;5;132;01m}\u001b[39;00m\u001b[38;5;124m vs mask shape \u001b[39m\u001b[38;5;132;01m{\u001b[39;00mmask_bin\u001b[38;5;241m.\u001b[39mshape\u001b[38;5;132;01m}\u001b[39;00m\u001b[38;5;124m\"\u001b[39m\n\u001b[0;32m     23\u001b[0m \u001b[38;5;66;03m# Apply mask: keep foreground pixels only\u001b[39;00m\n\u001b[0;32m     24\u001b[0m foreground \u001b[38;5;241m=\u001b[39m cv2\u001b[38;5;241m.\u001b[39mbitwise_and(patch, patch, mask\u001b[38;5;241m=\u001b[39mmask_bin)\n",
      "\u001b[1;31mAssertionError\u001b[0m: patch shape (923, 973) vs mask shape (923, 979)"
     ]
    }
   ],
   "source": [
    "# === Configuration ===\n",
    "video_path = \"videos/clay.mp4\"\n",
    "output_path = \"outputs/output_tracking.mp4\"\n",
    "object_id = 1  # Single-object tracking\n",
    "\n",
    "# === Load video ===\n",
    "cap = cv2.VideoCapture(video_path)\n",
    "if not cap.isOpened():\n",
    "    raise IOError(f\"Could not open video: {video_path}\")\n",
    "\n",
    "# === Read the first frame ===\n",
    "ret, first_frame = cap.read()\n",
    "if not ret:\n",
    "    raise RuntimeError(\"Could not read first frame from video.\")\n",
    "\n",
    "# === Generate dummy initial mask for testing ===\n",
    "init_mask = cv2.imread('outputs/segmented/clay_segmented.png')\n",
    "if init_mask is None:\n",
    "    raise FileNotFoundError(\"Could not load the mask image at 'outputs/segmented/clay_segmented.png'\")\n",
    "\n",
    "if len(init_mask.shape) == 3 and init_mask.shape[2] == 3:\n",
    "    gray_mask = cv2.cvtColor(init_mask, cv2.COLOR_BGR2GRAY)\n",
    "else:\n",
    "    gray_mask = init_mask.copy()\n",
    "\n",
    "_, binary_mask = cv2.threshold(gray_mask, 1, 255, cv2.THRESH_BINARY)\n",
    "\n",
    "x, y, w, h = cv2.boundingRect(binary_mask)\n",
    "init_bbox = (x, y, w, h)\n",
    "\n",
    "# === Define output writer ===\n",
    "fourcc = cv2.VideoWriter_fourcc(*'mp4v')\n",
    "fps = cap.get(cv2.CAP_PROP_FPS)\n",
    "frame_w = int(cap.get(cv2.CAP_PROP_FRAME_WIDTH))\n",
    "frame_h = int(cap.get(cv2.CAP_PROP_FRAME_HEIGHT))\n",
    "out = cv2.VideoWriter(output_path, fourcc, fps, (frame_w, frame_h))\n",
    "\n",
    "# Pass the first_frame explicitly here:\n",
    "dynamic_template_matching(init_mask, cap, out, first_frame, object_id=object_id)\n",
    "\n",
    "print(\"✅ Tracking complete. Output saved to:\", output_path)\n",
    "cv2.destroyAllWindows()"
   ]
  },
  {
   "cell_type": "code",
   "execution_count": 41,
   "id": "d22f8173-0b11-4ca6-a47e-84cfef0ee862",
   "metadata": {},
   "outputs": [
    {
     "ename": "IndexError",
     "evalue": "list index out of range",
     "output_type": "error",
     "traceback": [
      "\u001b[1;31m---------------------------------------------------------------------------\u001b[0m",
      "\u001b[1;31mIndexError\u001b[0m                                Traceback (most recent call last)",
      "Cell \u001b[1;32mIn[41], line 1\u001b[0m\n\u001b[1;32m----> 1\u001b[0m plt\u001b[38;5;241m.\u001b[39mimshow(\u001b[43mtemplate_bank\u001b[49m\u001b[43m[\u001b[49m\u001b[38;5;241;43m1\u001b[39;49m\u001b[43m]\u001b[49m\u001b[43m[\u001b[49m\u001b[38;5;241;43m0\u001b[39;49m\u001b[43m]\u001b[49m, cmap\u001b[38;5;241m=\u001b[39m\u001b[38;5;124m'\u001b[39m\u001b[38;5;124mgray\u001b[39m\u001b[38;5;124m'\u001b[39m)\n\u001b[0;32m      2\u001b[0m plt\u001b[38;5;241m.\u001b[39mtitle(\u001b[38;5;124m\"\u001b[39m\u001b[38;5;124mTemplate 0 for object 1\u001b[39m\u001b[38;5;124m\"\u001b[39m)\n\u001b[0;32m      3\u001b[0m plt\u001b[38;5;241m.\u001b[39maxis(\u001b[38;5;124m'\u001b[39m\u001b[38;5;124moff\u001b[39m\u001b[38;5;124m'\u001b[39m)\n",
      "\u001b[1;31mIndexError\u001b[0m: list index out of range"
     ]
    }
   ],
   "source": [
    "plt.imshow(template_bank[1][0], cmap='gray')\n",
    "plt.title(\"Template 0 for object 1\")\n",
    "plt.axis('off')\n",
    "plt.show()"
   ]
  },
  {
   "cell_type": "code",
   "execution_count": 29,
   "id": "0b0a539b-ad1c-447f-9be5-ce8e1b8a1568",
   "metadata": {},
   "outputs": [
    {
     "data": {
      "image/png": "[encoded data removed]",
      "text/plain": [
       "<Figure size 640x480 with 1 Axes>"
      ]
     },
     "metadata": {},
     "output_type": "display_data"
    }
   ],
   "source": [
    "plt.imshow(init_mask, cmap='gray')\n",
    "plt.title(\"Template 0 for object 1\")\n",
    "plt.axis('off')\n",
    "plt.show()"
   ]
  },
  {
   "cell_type": "code",
   "execution_count": null,
   "id": "2872cdc1-55a8-46e7-a385-d827c075b0b2",
   "metadata": {},
   "outputs": [],
   "source": [
    "def mask_refinement():\n",
    "    '''\n",
    "    DO THIS LATER, TEST DTTM LOCALIZATION FIRST\n",
    "    '''\n",
    "    pass"
   ]
  },
  {
   "cell_type": "code",
   "execution_count": null,
   "id": "28069bb8-8886-4934-9622-d2d4d8adc6eb",
   "metadata": {},
   "outputs": [],
   "source": []
  },
  {
   "cell_type": "code",
   "execution_count": null,
   "id": "31c82762-8083-447a-8cc0-7fc767a77fa5",
   "metadata": {},
   "outputs": [],
   "source": []
  },
  {
   "cell_type": "code",
   "execution_count": null,
   "id": "6582335a-fba4-40a7-abfd-88955fd20371",
   "metadata": {},
   "outputs": [],
   "source": []
  },
  {
   "cell_type": "code",
   "execution_count": null,
   "id": "11374539-5c19-4489-bc59-0d04817379fb",
   "metadata": {},
   "outputs": [],
   "source": []
  }
 ],
 "metadata": {
  "kernelspec": {
   "display_name": "Python 3 (ipykernel)",
   "language": "python",
   "name": "python3"
  },
  "language_info": {
   "codemirror_mode": {
    "name": "ipython",
    "version": 3
   },
   "file_extension": ".py",
   "mimetype": "text/x-python",
   "name": "python",
   "nbconvert_exporter": "python",
   "pygments_lexer": "ipython3",
   "version": "3.12.3"
  }
 },
 "nbformat": 4,
 "nbformat_minor": 5
}
