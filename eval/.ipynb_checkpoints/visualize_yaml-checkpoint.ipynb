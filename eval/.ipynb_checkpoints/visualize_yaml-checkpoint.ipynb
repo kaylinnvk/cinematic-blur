{
 "cells": [
  {
   "cell_type": "code",
   "execution_count": 1,
   "id": "b70ac7a7-73c2-4d89-8b15-252442f110f8",
   "metadata": {},
   "outputs": [],
   "source": [
    "import yaml\n",
    "import matplotlib.pyplot as plt"
   ]
  },
  {
   "cell_type": "code",
   "execution_count": 2,
   "id": "437ec852-47b0-4403-8eeb-48f7d17a0bbf",
   "metadata": {},
   "outputs": [],
   "source": [
    "# Load YAML\n",
    "with open('davis_results.yaml', 'r') as f:\n",
    "    data = yaml.safe_load(f)"
   ]
  },
  {
   "cell_type": "code",
   "execution_count": 3,
   "id": "606ec2bb-f22e-4300-b312-16caef92c6d3",
   "metadata": {},
   "outputs": [
    {
     "ename": "KeyError",
     "evalue": "'J'",
     "output_type": "error",
     "traceback": [
      "\u001b[1;31m---------------------------------------------------------------------------\u001b[0m",
      "\u001b[1;31mKeyError\u001b[0m                                  Traceback (most recent call last)",
      "Cell \u001b[1;32mIn[3], line 4\u001b[0m\n\u001b[0;32m      2\u001b[0m metrics \u001b[38;5;241m=\u001b[39m [\u001b[38;5;124m'\u001b[39m\u001b[38;5;124mJ\u001b[39m\u001b[38;5;124m'\u001b[39m, \u001b[38;5;124m'\u001b[39m\u001b[38;5;124mF\u001b[39m\u001b[38;5;124m'\u001b[39m]\n\u001b[0;32m      3\u001b[0m \u001b[38;5;28;01mfor\u001b[39;00m metric \u001b[38;5;129;01min\u001b[39;00m metrics:\n\u001b[1;32m----> 4\u001b[0m     values \u001b[38;5;241m=\u001b[39m \u001b[43mdata\u001b[49m\u001b[43m[\u001b[49m\u001b[43mmetric\u001b[49m\u001b[43m]\u001b[49m\n\u001b[0;32m      5\u001b[0m     labels \u001b[38;5;241m=\u001b[39m [\u001b[38;5;124m'\u001b[39m\u001b[38;5;124mmean\u001b[39m\u001b[38;5;124m'\u001b[39m, \u001b[38;5;124m'\u001b[39m\u001b[38;5;124mrecall\u001b[39m\u001b[38;5;124m'\u001b[39m, \u001b[38;5;124m'\u001b[39m\u001b[38;5;124mdecay\u001b[39m\u001b[38;5;124m'\u001b[39m, \u001b[38;5;124m'\u001b[39m\u001b[38;5;124mrecall50\u001b[39m\u001b[38;5;124m'\u001b[39m, \u001b[38;5;124m'\u001b[39m\u001b[38;5;124mrecall75\u001b[39m\u001b[38;5;124m'\u001b[39m]\n\u001b[0;32m      6\u001b[0m     scores \u001b[38;5;241m=\u001b[39m [values\u001b[38;5;241m.\u001b[39mget(k, \u001b[38;5;241m0\u001b[39m) \u001b[38;5;28;01mfor\u001b[39;00m k \u001b[38;5;129;01min\u001b[39;00m labels]\n",
      "\u001b[1;31mKeyError\u001b[0m: 'J'"
     ]
    }
   ],
   "source": [
    "# Plot J and F scores\n",
    "metrics = ['J', 'F']\n",
    "for metric in metrics:\n",
    "    values = data[metric]\n",
    "    labels = ['mean', 'recall', 'decay', 'recall50', 'recall75']\n",
    "    scores = [values.get(k, 0) for k in labels]\n",
    "    \n",
    "    plt.bar(labels, scores)\n",
    "    plt.title(f\"{metric} Metrics\")\n",
    "    plt.ylim(0, 1)\n",
    "    plt.ylabel(\"Score\")\n",
    "    plt.show()"
   ]
  },
  {
   "cell_type": "code",
   "execution_count": null,
   "id": "757b2821-1a7e-4720-9558-b4824e886c90",
   "metadata": {},
   "outputs": [],
   "source": []
  },
  {
   "cell_type": "code",
   "execution_count": null,
   "id": "be209831-751b-4408-953f-d858176d1aca",
   "metadata": {},
   "outputs": [],
   "source": []
  },
  {
   "cell_type": "code",
   "execution_count": null,
   "id": "3eff2aa5-7b32-49ff-b7bb-8714eb0153da",
   "metadata": {},
   "outputs": [],
   "source": []
  },
  {
   "cell_type": "code",
   "execution_count": null,
   "id": "1974e206-3c35-4eea-875f-b29134868a75",
   "metadata": {},
   "outputs": [],
   "source": []
  },
  {
   "cell_type": "code",
   "execution_count": null,
   "id": "94d1f752-9abf-4665-a993-90e0b66395c7",
   "metadata": {},
   "outputs": [],
   "source": []
  },
  {
   "cell_type": "code",
   "execution_count": null,
   "id": "cc3d3878-4577-495d-896d-220eaff5bd6d",
   "metadata": {},
   "outputs": [],
   "source": []
  },
  {
   "cell_type": "code",
   "execution_count": null,
   "id": "430039e3-649f-482d-bf7a-80b3179b5c93",
   "metadata": {},
   "outputs": [],
   "source": []
  },
  {
   "cell_type": "code",
   "execution_count": null,
   "id": "7981ca8d-6943-4298-9bdd-ddeaaae4839d",
   "metadata": {},
   "outputs": [],
   "source": []
  },
  {
   "cell_type": "code",
   "execution_count": null,
   "id": "67dd1cd9-50c1-4bf2-b83e-3b58c52584e8",
   "metadata": {},
   "outputs": [],
   "source": []
  },
  {
   "cell_type": "code",
   "execution_count": null,
   "id": "81e2151d-3d67-456c-80e2-ec5629829799",
   "metadata": {},
   "outputs": [],
   "source": []
  },
  {
   "cell_type": "code",
   "execution_count": null,
   "id": "91f3ff06-3e8d-48ee-a618-0652ac577b17",
   "metadata": {},
   "outputs": [],
   "source": []
  }
 ],
 "metadata": {
  "kernelspec": {
   "display_name": "Python 3 (ipykernel)",
   "language": "python",
   "name": "python3"
  },
  "language_info": {
   "codemirror_mode": {
    "name": "ipython",
    "version": 3
   },
   "file_extension": ".py",
   "mimetype": "text/x-python",
   "name": "python",
   "nbconvert_exporter": "python",
   "pygments_lexer": "ipython3",
   "version": "3.12.3"
  }
 },
 "nbformat": 4,
 "nbformat_minor": 5
}
